{
 "cells": [
  {
   "cell_type": "markdown",
   "metadata": {},
   "source": [
    "![](img/banner.png)\n",
    "%%HTML\n",
    "<script src=\"require.js\"></script>"
   ]
  },
  {
   "cell_type": "markdown",
   "metadata": {},
   "source": [
    "# Dimensionality Reduction - Part 2\n",
    "\n",
    "**Mahmood Amintoosi, Fall 2024**\n",
    "\n",
    "Computer Science Dept, Ferdowsi University of Mashhad"
   ]
  },
  {
   "cell_type": "markdown",
   "metadata": {},
   "source": [
    "## Linear Discriminant Analysis\n",
    "\n",
    "* [Linear Discriminant Analysis (LDA)](https://www.sci.utah.edu/~shireen/pdfs/tutorials/Elhabian_LDA09.pdf)"
   ]
  },
  {
   "cell_type": "markdown",
   "metadata": {},
   "source": [
    "## From high-dimensional into low-dimensional Euclidean space\n",
    "\n",
    "* [Johnson–Lindenstrauss lemma](https://en.wikipedia.org/wiki/Johnson%E2%80%93Lindenstrauss_lemma)\n",
    "* [Gaussian random projection](https://en.wikipedia.org/wiki/Random_projection)\n",
    "* [Random Projection: Theory and Implementation in Python with Scikit-Learn](https://stackabuse.com/random-projection-theory-and-implementation-in-python-with-scikit-learn/)\n",
    "\n",
    "**Further Reading**\n",
    "\n",
    "* [Scikit-learn: The Johnson-Lindenstrauss bound for embedding with random projections](https://scikit-learn.org/stable/auto_examples/miscellaneous/plot_johnson_lindenstrauss_bound.html#sphx-glr-auto-examples-miscellaneous-plot-johnson-lindenstrauss-bound-py)\n",
    "\n",
    "* Paper: [Supervised dimensionality reduction for big data](https://www.ncbi.nlm.nih.gov/pmc/articles/PMC8129083/)\n",
    "\n",
    "* Paper: [An Introduction to Johnson–Lindenstrauss Transforms\n",
    "](https://arxiv.org/pdf/2103.00564.pdf)\n",
    "* [Sketching Algorithms for Big Data, Harvard](https://www.sketchingbigdata.org/fall17/)\n",
    "  - [JL Lemma, History of lower bounds](https://www.sketchingbigdata.org/fall17/lec/lec5.pdf)\n",
    "  - [JL Lower bound Optimality](https://www.sketchingbigdata.org/fall17/lec/lec6.pdf)\n"
   ]
  }
 ],
 "metadata": {
  "kernelspec": {
   "display_name": "pth",
   "language": "python",
   "name": "python3"
  },
  "language_info": {
   "codemirror_mode": {
    "name": "ipython",
    "version": 3
   },
   "file_extension": ".py",
   "mimetype": "text/x-python",
   "name": "python",
   "nbconvert_exporter": "python",
   "pygments_lexer": "ipython3",
   "version": "3.7.11"
  },
  "orig_nbformat": 4
 },
 "nbformat": 4,
 "nbformat_minor": 2
}
