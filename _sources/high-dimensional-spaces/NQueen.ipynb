{
 "cells": [
  {
   "cell_type": "markdown",
   "metadata": {},
   "source": [
    "![](img/banner.png)\n",
    "%%HTML\n",
    "<script src=\"require.js\"></script>"
   ]
  },
  {
   "cell_type": "markdown",
   "metadata": {},
   "source": [
    "# N-Queen Problem\n",
    "\n",
    "**Mahmood Amintoosi, Fall 2024**\n",
    "\n",
    "Computer Science Dept, Ferdowsi University of Mashhad"
   ]
  },
  {
   "cell_type": "code",
   "execution_count": 1,
   "metadata": {},
   "outputs": [],
   "source": [
    "%matplotlib inline\n",
    "# %matplotlib notebook\n",
    "\n",
    "import matplotlib\n",
    "import numpy as np\n",
    "import matplotlib.pyplot as plt"
   ]
  },
  {
   "cell_type": "code",
   "execution_count": 2,
   "metadata": {},
   "outputs": [],
   "source": [
    "def nqueen_bk_objfun(x):\n",
    "    f = 0\n",
    "    N = len(x)\n",
    "    conflictIndices = []\n",
    "    for i in range(N):\n",
    "        if x[i] != 0:\n",
    "            for j in range(i + 1, N):\n",
    "                if x[j] != 0:\n",
    "                    if abs(x[i] - x[j]) == abs(i - j) or x[i] == x[j]:\n",
    "                        f += 1\n",
    "                        conflictIndices.append([i, x[i], j, x[j]])\n",
    "    return f, conflictIndices"
   ]
  },
  {
   "cell_type": "code",
   "execution_count": 3,
   "metadata": {},
   "outputs": [],
   "source": [
    "def is_safe(x, i, j):\n",
    "    for k in range(i):\n",
    "        shart = x[k] == j or abs(x[k] - j) == abs(k - i)\n",
    "        if shart:\n",
    "            return False\n",
    "    return True"
   ]
  },
  {
   "cell_type": "code",
   "execution_count": 4,
   "metadata": {},
   "outputs": [],
   "source": [
    "def nqueen_bk(i, x):\n",
    "    N = len(x)\n",
    "    if i == N:\n",
    "        print(x)\n",
    "    else:\n",
    "        for j in range(N):\n",
    "            if is_safe(x, i, j):\n",
    "                x[i] = j\n",
    "                nqueen_bk(i + 1, x)\n",
    "                # x[i] = -1"
   ]
  },
  {
   "cell_type": "code",
   "execution_count": 5,
   "metadata": {},
   "outputs": [
    {
     "name": "stdout",
     "output_type": "stream",
     "text": [
      "[1. 3. 0. 2.]\n",
      "[2. 0. 3. 1.]\n"
     ]
    }
   ],
   "source": [
    "x = -np.ones(4)\n",
    "nqueen_bk(0, x)\n",
    "# 1302\n",
    "# 2301"
   ]
  }
 ],
 "metadata": {
  "kernelspec": {
   "display_name": "tf",
   "language": "python",
   "name": "python3"
  },
  "language_info": {
   "codemirror_mode": {
    "name": "ipython",
    "version": 3
   },
   "file_extension": ".py",
   "mimetype": "text/x-python",
   "name": "python",
   "nbconvert_exporter": "python",
   "pygments_lexer": "ipython3",
   "version": "3.10.4"
  },
  "orig_nbformat": 4
 },
 "nbformat": 4,
 "nbformat_minor": 2
}
