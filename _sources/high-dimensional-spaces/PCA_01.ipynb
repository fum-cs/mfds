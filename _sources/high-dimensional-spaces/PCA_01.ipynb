{
 "cells": [
  {
   "cell_type": "markdown",
   "metadata": {},
   "source": [
    "![](img/banner.png)\n",
    "%%HTML\n",
    "<script src=\"require.js\"></script>"
   ]
  },
  {
   "cell_type": "markdown",
   "metadata": {},
   "source": [
    "# PCA - Part 1\n",
    "\n",
    "**Mahmood Amintoosi, Fall 2024**\n",
    "\n",
    "Computer Science Dept, Ferdowsi University of Mashhad"
   ]
  },
  {
   "cell_type": "markdown",
   "metadata": {},
   "source": [
    "\n",
    "* [Principal Component Analysis explained visually](https://setosa.io/ev/principal-component-analysis/)\n",
    "* [In Depth: Principal Component Analysis, Python Data Science Handbook](https://jakevdp.github.io/PythonDataScienceHandbook/05.09-principal-component-analysis.html)\n",
    "* [PRML-PCA Slides](https://www.dropbox.com/s/ftw3f8wvx07gos9/PRML_ch12_sec1.pdf?dl=0)\n",
    "  - [Matrix Differentiation](https://fum-cs.github.io/fds/misc/MatrixCalculus.pdf) by \n",
    "Randal J. Barnes\n",
    "* [Chapter 7 of Zaki (Slides)](https://www.cs.rpi.edu/~zaki/DMML/slides/pdf/ychap7.pdf)\n",
    "* [Linear Discriminant Analysis (LDA)](https://www.sci.utah.edu/~shireen/pdfs/tutorials/Elhabian_LDA09.pdf)\n",
    "\n",
    "**Kaggle:** [Country Profiling Using PCA and Clustering](https://www.kaggle.com/leo2510/country-clustering-and-pca-analysis)\n",
    "\n",
    "* [An Introduction to Principal Component Analysis (PCA) with 2018 World Soccer Players Data](https://blog.exploratory.io/an-introduction-to-principal-component-analysis-pca-with-2018-world-soccer-players-data-810d84a14eab), [PDF](https://fum-cs.github.io/fds/misc/An%20Introduction%20to%20Principal%20Component%20Analysis%20(PCA)%20with%202018%20World%20Soccer%20Players%20Data.pdf)\n",
    "* [Using PCA to See Which Countries have Better Players for World Cup Games](https://blog.exploratory.io/using-pca-to-see-which-countries-have-better-players-for-world-cup-games-a72f91698b95), [PDF](https://fum-cs.github.io/fds/misc/Using%20PCA%20to%20See%20Which%20Countries%20have%20Better%20Players%20for%20World%20Cup%20Games.pdf)\n"
   ]
  },
  {
   "cell_type": "markdown",
   "metadata": {},
   "source": [
    "Chapter 7 of Zaki"
   ]
  },
  {
   "cell_type": "code",
   "execution_count": 31,
   "metadata": {},
   "outputs": [],
   "source": [
    "import numpy as np\n",
    "import matplotlib.pyplot as plt\n",
    "import seaborn as sb\n",
    "import pandas as pd"
   ]
  },
  {
   "cell_type": "code",
   "execution_count": 32,
   "metadata": {},
   "outputs": [],
   "source": [
    "u0 = np.array([[1], [1]])\n",
    "u0 = u0 / np.linalg.norm(u0)\n",
    "# u0, np.linalg.norm(u0)"
   ]
  },
  {
   "cell_type": "code",
   "execution_count": 33,
   "metadata": {},
   "outputs": [
    {
     "data": {
      "text/plain": [
       "(array([[0.70710678],\n",
       "        [0.70710678]]),\n",
       " array([[-0.70710678],\n",
       "        [ 0.70710678]]))"
      ]
     },
     "execution_count": 33,
     "metadata": {},
     "output_type": "execute_result"
    }
   ],
   "source": [
    "u1 = u0.copy()\n",
    "u1[0] *= -1\n",
    "u0, u1"
   ]
  },
  {
   "cell_type": "code",
   "execution_count": 34,
   "metadata": {},
   "outputs": [
    {
     "data": {
      "text/plain": [
       "Text([0.5], [1.04], 'x')"
      ]
     },
     "execution_count": 34,
     "metadata": {},
     "output_type": "execute_result"
    },
    {
     "data": {
      "image/png": "[encoded data removed]",
      "text/plain": [
       "<Figure size 432x288 with 1 Axes>"
      ]
     },
     "metadata": {
      "needs_background": "light"
     },
     "output_type": "display_data"
    }
   ],
   "source": [
    "origin = np.array([0, 0])\n",
    "plt.quiver(\n",
    "    origin[0],\n",
    "    origin[1],\n",
    "    u0[0],\n",
    "    u0[1],\n",
    "    scale=1,\n",
    "    scale_units=\"xy\",\n",
    "    angles=\"xy\",\n",
    "    color=\"r\",\n",
    ")\n",
    "plt.quiver(\n",
    "    origin[0],\n",
    "    origin[1],\n",
    "    u1[0],\n",
    "    u1[1],\n",
    "    scale=1,\n",
    "    scale_units=\"xy\",\n",
    "    angles=\"xy\",\n",
    "    color=\"r\",\n",
    ")\n",
    "\n",
    "x = np.array([0.5, 1])\n",
    "x = np.reshape(x, (2, 1))\n",
    "plt.scatter(x[0], x[1])\n",
    "plt.axis(\"equal\")\n",
    "plt.axis([-1, 1, 0, 1])\n",
    "plt.text(x[0], x[1]+0.04, \"x\")"
   ]
  },
  {
   "cell_type": "code",
   "execution_count": 35,
   "metadata": {},
   "outputs": [
    {
     "data": {
      "text/plain": [
       "(array([[ 0.70710678, -0.70710678],\n",
       "        [ 0.70710678,  0.70710678]]),\n",
       " array([[0.5],\n",
       "        [1. ]]))"
      ]
     },
     "execution_count": 35,
     "metadata": {},
     "output_type": "execute_result"
    }
   ],
   "source": [
    "U = np.concatenate((u0, u1), axis=1)\n",
    "U, x"
   ]
  },
  {
   "cell_type": "code",
   "execution_count": 36,
   "metadata": {},
   "outputs": [
    {
     "data": {
      "text/plain": [
       "(array([[0.5],\n",
       "        [1. ]]),\n",
       " array([[1.06066017],\n",
       "        [0.35355339]]),\n",
       " array([[0.5],\n",
       "        [1. ]]))"
      ]
     },
     "execution_count": 36,
     "metadata": {},
     "output_type": "execute_result"
    }
   ],
   "source": [
    "# eq 7.3, page 185 Zaki\n",
    "a = U.T @ x\n",
    "x, a, U @ a"
   ]
  },
  {
   "cell_type": "code",
   "execution_count": 37,
   "metadata": {},
   "outputs": [
    {
     "data": {
      "text/plain": [
       "(-1.0, 1.0, 0.0, 1.0)"
      ]
     },
     "execution_count": 37,
     "metadata": {},
     "output_type": "execute_result"
    },
    {
     "data": {
      "image/png": "[encoded data removed]",
      "text/plain": [
       "<Figure size 432x288 with 1 Axes>"
      ]
     },
     "metadata": {
      "needs_background": "light"
     },
     "output_type": "display_data"
    }
   ],
   "source": [
    "origin = np.array([0, 0])\n",
    "plt.quiver(\n",
    "    origin[0],\n",
    "    origin[1],\n",
    "    u0[0],\n",
    "    u0[1],\n",
    "    scale=1,\n",
    "    scale_units=\"xy\",\n",
    "    angles=\"xy\",\n",
    "    color=\"r\",\n",
    ")\n",
    "plt.quiver(\n",
    "    origin[0],\n",
    "    origin[1],\n",
    "    u1[0],\n",
    "    u1[1],\n",
    "    scale=1,\n",
    "    scale_units=\"xy\",\n",
    "    angles=\"xy\",\n",
    "    color=\"r\",\n",
    ")\n",
    "a0u0 = a[0] * u0\n",
    "a1u1 = a[1] * u1\n",
    "plt.quiver(\n",
    "    origin[0],\n",
    "    origin[1],\n",
    "    a0u0[0],\n",
    "    a0u0[1],\n",
    "    scale=1,\n",
    "    scale_units=\"xy\",\n",
    "    angles=\"xy\",\n",
    "    color=\"b\",\n",
    ")\n",
    "plt.quiver(\n",
    "    origin[0],\n",
    "    origin[1],\n",
    "    a1u1[0],\n",
    "    a1u1[1],\n",
    "    scale=1,\n",
    "    scale_units=\"xy\",\n",
    "    angles=\"xy\",\n",
    "    color=\"b\",\n",
    ")\n",
    "\n",
    "plt.scatter(x[0], x[1])\n",
    "plt.axis(\"equal\")\n",
    "plt.axis([-1, 1, 0, 1])"
   ]
  },
  {
   "cell_type": "code",
   "execution_count": 38,
   "metadata": {},
   "outputs": [
    {
     "data": {
      "text/plain": [
       "(array([[ 0.70710678, -0.70710678],\n",
       "        [ 0.70710678,  0.70710678]]),\n",
       " array([[0.5],\n",
       "        [1. ]]),\n",
       " array([[1.06066017],\n",
       "        [0.35355339]]))"
      ]
     },
     "execution_count": 38,
     "metadata": {},
     "output_type": "execute_result"
    }
   ],
   "source": [
    "U, x, a"
   ]
  },
  {
   "cell_type": "code",
   "execution_count": 39,
   "metadata": {},
   "outputs": [
    {
     "data": {
      "text/plain": [
       "(array([[0.5],\n",
       "        [1. ]]),\n",
       " array([[0.5],\n",
       "        [1. ]]))"
      ]
     },
     "execution_count": 39,
     "metadata": {},
     "output_type": "execute_result"
    }
   ],
   "source": [
    "u0 * a[0] + u1 * a[1], U @ a"
   ]
  },
  {
   "cell_type": "code",
   "execution_count": 40,
   "metadata": {},
   "outputs": [
    {
     "data": {
      "text/plain": [
       "array([[0.75],\n",
       "       [0.75]])"
      ]
     },
     "execution_count": 40,
     "metadata": {},
     "output_type": "execute_result"
    }
   ],
   "source": [
    "# Eq 7.5\n",
    "r = 1\n",
    "Ur = U[:,0:r]\n",
    "ar = a[:r]\n",
    "x_prime = Ur@ar\n",
    "x_prime"
   ]
  },
  {
   "cell_type": "code",
   "execution_count": 41,
   "metadata": {},
   "outputs": [
    {
     "data": {
      "text/plain": [
       "(array([[0.75],\n",
       "        [0.75]]),\n",
       " array([[0.75],\n",
       "        [0.75]]),\n",
       " array([[0.75],\n",
       "        [0.75]]),\n",
       " array([0.75, 0.75]))"
      ]
     },
     "execution_count": 41,
     "metadata": {},
     "output_type": "execute_result"
    }
   ],
   "source": [
    "a[0]*u0, U[:,0:1]@a[:1], u0 @ a[:1], u0 @ a[0]"
   ]
  },
  {
   "cell_type": "code",
   "execution_count": 45,
   "metadata": {},
   "outputs": [
    {
     "data": {
      "text/plain": [
       "array([[0.75],\n",
       "       [0.75]])"
      ]
     },
     "execution_count": 45,
     "metadata": {},
     "output_type": "execute_result"
    }
   ],
   "source": [
    "# x_prime is the projection of x onto the first r basis vectors\n",
    "x_projected = Ur@ar\n",
    "x_projected"
   ]
  },
  {
   "cell_type": "code",
   "execution_count": 46,
   "metadata": {},
   "outputs": [
    {
     "data": {
      "text/plain": [
       "(-1.0, 1.0, 0.0, 1.0)"
      ]
     },
     "execution_count": 46,
     "metadata": {},
     "output_type": "execute_result"
    },
    {
     "data": {
      "image/png": "[encoded data removed]",
      "text/plain": [
       "<Figure size 432x288 with 1 Axes>"
      ]
     },
     "metadata": {
      "needs_background": "light"
     },
     "output_type": "display_data"
    }
   ],
   "source": [
    "origin = np.array([0, 0])\n",
    "plt.quiver(\n",
    "    origin[0],\n",
    "    origin[1],\n",
    "    u0[0],\n",
    "    u0[1],\n",
    "    scale=1,\n",
    "    scale_units=\"xy\",\n",
    "    angles=\"xy\",\n",
    "    color=\"r\",\n",
    ")\n",
    "plt.quiver(\n",
    "    origin[0],\n",
    "    origin[1],\n",
    "    u1[0],\n",
    "    u1[1],\n",
    "    scale=1,\n",
    "    scale_units=\"xy\",\n",
    "    angles=\"xy\",\n",
    "    color=\"r\",\n",
    ")\n",
    "a0u0 = a[0] * u0\n",
    "a1u1 = a[1] * u1\n",
    "plt.quiver(\n",
    "    origin[0],\n",
    "    origin[1],\n",
    "    a0u0[0],\n",
    "    a0u0[1],\n",
    "    scale=1,\n",
    "    scale_units=\"xy\",\n",
    "    angles=\"xy\",\n",
    "    color=\"b\",\n",
    ")\n",
    "plt.quiver(\n",
    "    origin[0],\n",
    "    origin[1],\n",
    "    a1u1[0],\n",
    "    a1u1[1],\n",
    "    scale=1,\n",
    "    scale_units=\"xy\",\n",
    "    angles=\"xy\",\n",
    "    color=\"b\",\n",
    ")\n",
    "\n",
    "plt.scatter(x[0], x[1])\n",
    "plt.scatter(x_projected[0], x_projected[1])\n",
    "plt.axis(\"equal\")\n",
    "plt.axis([-1, 1, 0, 1])"
   ]
  },
  {
   "cell_type": "markdown",
   "metadata": {},
   "source": [
    "Page 189 of Zaki\n",
    "\n",
    "We also assume that the data matrix D has been\n",
    "centered by subtracting the mean $\\mu$\n",
    "\n",
    "$X \\equiv D$\n",
    "\n",
    "$ mean\\_X \\equiv \\mu$\n",
    "\n",
    "$ Z \\equiv X\\_centered \\equiv \\bar{D}$\n",
    "\n",
    "Algorithm 7.1, page 199 of Zaki book, Slide 16 of Chap 7"
   ]
  },
  {
   "cell_type": "code",
   "execution_count": 47,
   "metadata": {},
   "outputs": [
    {
     "name": "stdout",
     "output_type": "stream",
     "text": [
      "(5, 2)\n"
     ]
    },
    {
     "data": {
      "text/plain": [
       "array([[2.  , 2.  ],\n",
       "       [2.  , 3.44]])"
      ]
     },
     "execution_count": 47,
     "metadata": {},
     "output_type": "execute_result"
    }
   ],
   "source": [
    "X = np.array([[2, 3], [3, 2], [4, 6], [5, 4], [6, 7]])\n",
    "\n",
    "# Step 1\n",
    "mean_X = np.mean(X, axis=0)\n",
    "\n",
    "# Step 2\n",
    "Z = X - mean_X\n",
    "print(Z.shape)\n",
    "\n",
    "# Step 3\n",
    "Sigma = 1 / X.shape[0] * Z.T @ Z\n",
    "Sigma"
   ]
  },
  {
   "cell_type": "markdown",
   "metadata": {},
   "source": [
    "$ \\Sigma \\approx Cov$"
   ]
  },
  {
   "cell_type": "code",
   "execution_count": 48,
   "metadata": {},
   "outputs": [],
   "source": [
    "# covariance, function needs samples as columns\n",
    "\n",
    "# cov_mat = np.cov(Z.T)\n",
    "# cov_mat"
   ]
  },
  {
   "cell_type": "code",
   "execution_count": 49,
   "metadata": {},
   "outputs": [],
   "source": [
    "# Sigma = np.zeros((2,2))\n",
    "# for i in range(X.shape[0]):\n",
    "#     xi = Z[i]\n",
    "#     Sigma += xi.reshape(2,1)*xi\n",
    "# Sigma /= (X.shape[0])\n",
    "# Sigma"
   ]
  },
  {
   "cell_type": "code",
   "execution_count": 50,
   "metadata": {},
   "outputs": [
    {
     "data": {
      "text/plain": [
       "(array([0.59434716, 4.84565284]),\n",
       " array([[-0.81814408,  0.57501327],\n",
       "        [ 0.57501327,  0.81814408]]))"
      ]
     },
     "execution_count": 50,
     "metadata": {},
     "output_type": "execute_result"
    }
   ],
   "source": [
    "# Step 4, 5\n",
    "lambdas, U = np.linalg.eigh(Sigma)\n",
    "lambdas, U"
   ]
  },
  {
   "cell_type": "code",
   "execution_count": 51,
   "metadata": {},
   "outputs": [],
   "source": [
    "# eigen_values, eigen_vectors = np.linalg.eigh(Sigma)\n",
    "# eigen_values, eigen_vectors"
   ]
  },
  {
   "cell_type": "code",
   "execution_count": 52,
   "metadata": {},
   "outputs": [
    {
     "name": "stdout",
     "output_type": "stream",
     "text": [
      "[[-0.81814408]\n",
      " [ 0.57501327]]\n",
      "[[-0.48626161]\n",
      " [ 0.34175751]]\n",
      "[[-0.48626161]\n",
      " [ 0.34175751]]\n"
     ]
    }
   ],
   "source": [
    "lambda0 = lambdas[0]\n",
    "u0 = U[:, 0:1]\n",
    "print(u0)\n",
    "print(Sigma @ u0)\n",
    "print(lambda0 * u0)"
   ]
  },
  {
   "cell_type": "code",
   "execution_count": 53,
   "metadata": {},
   "outputs": [
    {
     "data": {
      "text/plain": [
       "array([[2.  , 2.  ],\n",
       "       [2.  , 3.44]])"
      ]
     },
     "execution_count": 53,
     "metadata": {},
     "output_type": "execute_result"
    }
   ],
   "source": [
    "U @ np.diag(lambdas) @ np.linalg.inv(U)"
   ]
  },
  {
   "cell_type": "code",
   "execution_count": 54,
   "metadata": {},
   "outputs": [
    {
     "data": {
      "text/plain": [
       "(array([4.84565284, 0.59434716]),\n",
       " array([[ 0.57501327, -0.81814408],\n",
       "        [ 0.81814408,  0.57501327]]))"
      ]
     },
     "execution_count": 54,
     "metadata": {},
     "output_type": "execute_result"
    }
   ],
   "source": [
    "# Steps 4, continue ... (Sorting)\n",
    "sorted_index = np.argsort(lambdas)[::-1]\n",
    "lambdas = lambdas[sorted_index]\n",
    "U = U[:, sorted_index]\n",
    "lambdas, U"
   ]
  },
  {
   "cell_type": "markdown",
   "metadata": {},
   "source": [
    "Steps 6 & 7 is omitted"
   ]
  },
  {
   "cell_type": "code",
   "execution_count": 24,
   "metadata": {},
   "outputs": [
    {
     "data": {
      "text/plain": [
       "array([[0.57501327],\n",
       "       [0.81814408]])"
      ]
     },
     "execution_count": 24,
     "metadata": {},
     "output_type": "execute_result"
    }
   ],
   "source": [
    "num_components = 1\n",
    "# Step 8\n",
    "Ur = U[:, 0:num_components]\n",
    "Ur"
   ]
  },
  {
   "cell_type": "markdown",
   "metadata": {},
   "source": [
    "- Step 9: X_projected = A\n",
    "\n",
    "There is mistake in the Algorithm in slides, x should be replaced with $\\bar{x}$"
   ]
  },
  {
   "cell_type": "code",
   "execution_count": 55,
   "metadata": {},
   "outputs": [
    {
     "data": {
      "text/plain": [
       "array([[-2.40416306],\n",
       "       [-2.40416306],\n",
       "       [ 1.13137085],\n",
       "       [ 0.42426407],\n",
       "       [ 3.25269119]])"
      ]
     },
     "execution_count": 55,
     "metadata": {},
     "output_type": "execute_result"
    }
   ],
   "source": [
    "X_projected = Z @ Ur\n",
    "X_projected"
   ]
  },
  {
   "cell_type": "code",
   "execution_count": 56,
   "metadata": {},
   "outputs": [
    {
     "data": {
      "text/plain": [
       "array([[2.3, 2.7],\n",
       "       [2.3, 2.7],\n",
       "       [4.8, 5.2],\n",
       "       [4.3, 4.7],\n",
       "       [6.3, 6.7]])"
      ]
     },
     "execution_count": 56,
     "metadata": {},
     "output_type": "execute_result"
    }
   ],
   "source": [
    "X_reconstructed = X_projected @ Ur.T + mean_X\n",
    "X_reconstructed"
   ]
  },
  {
   "cell_type": "code",
   "execution_count": 57,
   "metadata": {},
   "outputs": [
    {
     "data": {
      "image/png": "[encoded data removed]",
      "text/plain": [
       "<Figure size 432x288 with 1 Axes>"
      ]
     },
     "metadata": {
      "needs_background": "light"
     },
     "output_type": "display_data"
    }
   ],
   "source": [
    "fig = plt.figure()\n",
    "plt.scatter(X[:, 0], X[:, 1], c=\"blue\")\n",
    "plt.scatter(X_reconstructed[:, 0], X_reconstructed[:, 1], c=\"green\")\n",
    "ax = plt.gca()\n",
    "ax.set_aspect(\"equal\", adjustable=\"box\")\n",
    "plt.draw()"
   ]
  },
  {
   "cell_type": "code",
   "execution_count": 58,
   "metadata": {},
   "outputs": [],
   "source": [
    "def PCA(X, num_components):\n",
    "    # num_components = r\n",
    "    # Step-1\n",
    "    mean_X = np.mean(X, axis=0)\n",
    "    Z = X - mean_X\n",
    "\n",
    "    # Step-2\n",
    "    # covariance, function needs samples as columns\n",
    "    cov_mat = np.cov(Z.T)\n",
    "\n",
    "    # Step-3\n",
    "    lambdas, U = np.linalg.eigh(cov_mat)\n",
    "\n",
    "    # Step-4\n",
    "    sorted_index = np.argsort(lambdas)[::-1]\n",
    "    # sorted_eigenvalues = eigen_values[sorted_index]\n",
    "    U = U[:, sorted_index]\n",
    "\n",
    "    # Step-8\n",
    "    Ur = U[:, 0:num_components]\n",
    "\n",
    "    # Step-9, A\n",
    "    X_projected = Z @ Ur\n",
    "\n",
    "    X_reconstructed = X_projected @ Ur.T + mean_X\n",
    "\n",
    "    return X_projected, X_reconstructed"
   ]
  },
  {
   "cell_type": "code",
   "execution_count": 59,
   "metadata": {},
   "outputs": [
    {
     "data": {
      "image/png": "[encoded data removed]",
      "text/plain": [
       "<Figure size 432x288 with 1 Axes>"
      ]
     },
     "metadata": {
      "needs_background": "light"
     },
     "output_type": "display_data"
    }
   ],
   "source": [
    "# Applying it to PCA function\n",
    "X_projected, X_reconstructed = PCA(X, 1)\n",
    "\n",
    "fig = plt.figure()\n",
    "plt.scatter(X[:, 0], X[:, 1], c=\"blue\")\n",
    "plt.scatter(X_reconstructed[:, 0], X_reconstructed[:, 1], c=\"green\")\n",
    "ax = plt.gca()\n",
    "ax.set_aspect(\"equal\", adjustable=\"box\")\n",
    "plt.draw()"
   ]
  },
  {
   "cell_type": "code",
   "execution_count": 70,
   "metadata": {},
   "outputs": [
    {
     "data": {
      "text/plain": [
       "(10, 2)"
      ]
     },
     "execution_count": 70,
     "metadata": {},
     "output_type": "execute_result"
    }
   ],
   "source": [
    "w0, w1 = 2, 1\n",
    "N = 10\n",
    "\n",
    "# Data Generation\n",
    "np.random.seed(42)\n",
    "x = np.random.rand(N, 1)*10\n",
    "\n",
    "epsilon = np.random.randn(N, 1)\n",
    "y = w0 + w1 * x + epsilon\n",
    "X = np.hstack([x, y])\n",
    "X.shape"
   ]
  },
  {
   "cell_type": "code",
   "execution_count": 71,
   "metadata": {},
   "outputs": [
    {
     "data": {
      "image/png": "[encoded data removed]",
      "text/plain": [
       "<Figure size 432x288 with 1 Axes>"
      ]
     },
     "metadata": {
      "needs_background": "light"
     },
     "output_type": "display_data"
    }
   ],
   "source": [
    "X_projected, X_reconstructed = PCA(X, 1)\n",
    "\n",
    "fig = plt.figure()\n",
    "plt.scatter(X[:, 0], X[:, 1], c=\"blue\")\n",
    "plt.scatter(X_reconstructed[:, 0], X_reconstructed[:, 1], c=\"green\")\n",
    "ax = plt.gca()\n",
    "ax.set_aspect(\"equal\", adjustable=\"box\")\n",
    "plt.draw()"
   ]
  },
  {
   "cell_type": "code",
   "execution_count": null,
   "metadata": {},
   "outputs": [],
   "source": []
  }
 ],
 "metadata": {
  "kernelspec": {
   "display_name": "pth",
   "language": "python",
   "name": "python3"
  },
  "language_info": {
   "codemirror_mode": {
    "name": "ipython",
    "version": 3
   },
   "file_extension": ".py",
   "mimetype": "text/x-python",
   "name": "python",
   "nbconvert_exporter": "python",
   "pygments_lexer": "ipython3",
   "version": "3.10.4"
  },
  "orig_nbformat": 4
 },
 "nbformat": 4,
 "nbformat_minor": 2
}
