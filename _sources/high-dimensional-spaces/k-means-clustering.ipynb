{
 "cells": [
  {
   "cell_type": "markdown",
   "metadata": {},
   "source": [
    "![](img/banner.png)\n",
    "%%HTML\n",
    "<script src=\"require.js\"></script>\n",
    "# k-means Clustering\n",
    "\n",
    "**Mahmood Amintoosi, Fall 2024**\n",
    "\n",
    "Computer Science Dept, Ferdowsi University of Mashhad"
   ]
  },
  {
   "cell_type": "markdown",
   "metadata": {},
   "source": [
    "**Definition of Clustering**\n",
    "\n",
    "A clustering of a set of datapoints $\\{x_1, x_2, \\ldots, x_n\\}$ is a partition of the datapoints into k disjoint subsets (or clusters) $\\mathcal{C} = \\{C_1, C_2, \\ldots, C_k\\}$ in such a way that datapoints in the same group are more similar (in some specific sense defined by the analyst) to each other than to those in other groups (clusters).\n",
    "\n",
    "**k-means Clustering**\n",
    "\n",
    "k-means clustering is a type of clustering that partitions the datapoints into k clusters based on their similarity to the centroid of each cluster. The goal of k-means clustering is to find the partition $\\mathcal{C}$ that minimizes the sum of squared distances between each datapoint and the centroid of its assigned cluster.\n",
    "\n",
    "**Lemma 1: Sum of Squared Distances to Any Point**\n",
    "\n",
    "Let $\\{x_1, x_2, \\ldots, x_n\\}$ be a set of datapoints and let $\\mu$ be the centroid of the datapoints. The sum of squared distances of the datapoints to any arbitrary point $z$ equals the sum of squared distances to the centroid plus the number of datapoints times the squared distance from the point $z$ to the centroid. That is,\n",
    "\n",
    "$$\\sum_{i=1}^n |x_i - z|^2 = \\sum_{i=1}^n |x_i - \\mu|^2 + n |\\mu - z|^2$$\n",
    "\n",
    "Proof: \n",
    "\n",
    "$$\n",
    "\\begin{align*}\n",
    "\\sum_{i=1}^n |x_i - z|^2 &= \\sum_{i=1}^n |x_i - \\mu + \\mu - z|^2 \\\\\n",
    "&= \\sum_{i=1}^n |x_i - \\mu|^2 + 2(\\mu - z) \\cdot \\sum_{i=1}^n (x_i - \\mu) + n |\\mu - z|^2 \\\\\n",
    "&= \\sum_{i=1}^n |x_i - \\mu|^2 + n |\\mu - z|^2\n",
    "\\end{align*}\n",
    "$$\n",
    "since $\\sum_{i=1}^n (x_i - \\mu) = 0$.\n",
    "\n",
    "**Corollary 1: Centroid Minimizes Sum of Squared Distances**\n",
    "\n",
    "The centroid minimizes the sum of squared distances since the second term, $n |\\mu - z|^2$, is always positive.\n",
    "\n",
    "Proof:\n",
    "\n",
    "This follows directly from Lemma 1, since the second term, $n |\\mu - z|^2$, is always positive.\n",
    "\n",
    "**Lemma 2: Sum of Squared Distances Between All Pairs of Points**\n",
    "\n",
    "Let $\\{x_1, x_2, \\ldots, x_n\\}$ be a set of datapoints and let $\\mu$ be the centroid of the datapoints. The sum of squared distances between all pairs of points equals the number of points times the sum of squared distances of the points to the centroid of the points. That is,\n",
    "\n",
    "$$\\sum_{i=1}^n \\sum_{j>i} |x_i - x_j|^2 = n \\sum_{i=1}^n |x_i - \\mu|^2$$\n",
    "\n",
    "Proof:\n",
    "\n",
    "$$\n",
    "\\begin{align*}\n",
    "\\sum_{i=1}^n \\sum_{j>i} |x_i - x_j|^2 &= \\frac{1}{2} \\sum_{i=1}^n \\sum_{j=1}^n |x_i - x_j|^2 \\\\\n",
    "&= \\frac{1}{2} \\sum_{j=1}^n (\\sum_{i=1}^n |x_i - x_j|^2) \\\\\n",
    "&= \\frac{1}{2} \\sum_{j=1}^n (\\sum_{i=1}^n |x_i - \\mu|^2 + n |\\mu - x_j|^2) \\tag{Lemma 1}\\\\\n",
    "&= \\frac{1}{2} \\left(\\sum_{j=1}^n (\\sum_{i=1}^n |x_i - \\mu|^2) + n \\sum_{j=1}^n(|\\mu - x_j|^2)\\right)\\\\\n",
    "&= \\frac{1}{2} \\left(n\\sum_{i=1}^n |x_i - \\mu|^2) + n\\sum_{i=1}^n |x_i - \\mu|^2)\\right)\\\\\n",
    "&= n \\sum_{i=1}^n |x_i - \\mu|^2\n",
    "\\end{align*}\n",
    "$$\n",
    "\n",
    "**k-means Clustering Algorithm**\n",
    "\n",
    "The k-means clustering algorithm is a natural algorithm for k-means clustering. The algorithm starts with k initial centroids and iteratively updates the centroids and assigns each datapoint to its nearest centroid until convergence.\n",
    "\n",
    "1. Initialize k initial centroids $\\mu_1, \\ldots, \\mu_k$ randomly.\n",
    "2. For each iteration, perform the following steps:\n",
    "   1. Assign each datapoint $x_i$ to the cluster $C_j$ with the nearest centroid $\\mu_j$.\n",
    "   2. Update the centroids $\\mu_1, \\ldots, \\mu_k$ as the mean of all datapoints assigned to each cluster.\n",
    "3. Repeat step 2 until convergence.\n",
    "\n",
    "**Convergence of k-means Algorithm**\n",
    "\n",
    "The k-means algorithm always converges, but possibly to a local minimum. To show convergence, we argue that the cost of the clustering, the sum of the squares of the distances of each datapoint to its cluster centroid, always improves.\n",
    "\n",
    "Here is a Python implementation of the k-means clustering algorithm:\n",
    "\n"
   ]
  },
  {
   "cell_type": "code",
   "execution_count": 23,
   "metadata": {},
   "outputs": [],
   "source": [
    "import numpy as np\n",
    "\n",
    "def kmeans(data, k):\n",
    "    # Initialize centroids randomly\n",
    "    centroids = data[np.random.choice(range(len(data)), size=k, replace=False)]\n",
    "\n",
    "    while True:\n",
    "        # Assign each data point to the closest centroid\n",
    "        labels = np.argmin(np.linalg.norm(data[:, np.newaxis] - centroids, axis=2), axis=1)\n",
    "\n",
    "        # Compute new centroids as the mean of all data points assigned to each centroid\n",
    "        new_centroids = np.array([data[labels == i].mean(axis=0) for i in range(k)])\n",
    "\n",
    "        # Check for convergence\n",
    "        if np.all(centroids == new_centroids):\n",
    "            break\n",
    "\n",
    "        centroids = new_centroids\n",
    "\n",
    "    return centroids, labels\n"
   ]
  },
  {
   "cell_type": "markdown",
   "metadata": {},
   "source": [
    "## Using OOP for implememntation of k-means\n",
    "\n",
    "\n",
    "This notebook first generates some sample data and defines a KMeansClustering class that implements the K-Means algorithm. The fit method initializes the centroids randomly and then iteratively updates them until convergence. "
   ]
  },
  {
   "cell_type": "code",
   "execution_count": 24,
   "metadata": {},
   "outputs": [],
   "source": [
    "import numpy as np\n",
    "import matplotlib.pyplot as plt\n",
    "from sklearn.cluster import KMeans\n",
    "\n",
    "# Generate some sample data\n",
    "np.random.seed(0)\n",
    "# n_samples = 100\n",
    "# data = np.random.rand(n_samples, 2)\n",
    "\n",
    "# Define the KMeans class\n",
    "class KMeansClustering:\n",
    "    def __init__(self, k):\n",
    "        self.data = None\n",
    "        self.k = k\n",
    "        self.centroids = None\n",
    "        self.labels = None\n",
    "\n",
    "    def fit(self, data):\n",
    "\n",
    "        self.data = data\n",
    "        n_samples = len(self.data)    \n",
    "        # Initialize centroids randomly\n",
    "        self.centroids = self.data[np.random.choice(range(n_samples), size=self.k, replace=False)]\n",
    "\n",
    "        while True:\n",
    "            # Assign each data point to the closest centroid\n",
    "            self.labels = np.argmin(np.linalg.norm(self.data[:, np.newaxis] - self.centroids, axis=2), axis=1)\n",
    "\n",
    "            # Compute new centroids as the mean of all data points assigned to each centroid\n",
    "            new_centroids = np.array([self.data[self.labels == i].mean(axis=0) for i in range(self.k)])\n",
    "\n",
    "            # Check for convergence\n",
    "            if np.all(self.centroids == new_centroids):\n",
    "                break\n",
    "\n",
    "            self.centroids = new_centroids"
   ]
  },
  {
   "cell_type": "markdown",
   "metadata": {},
   "source": [
    "The following script creates an instance of the KMeansClustering class, fits the model to the data, and plots the data with centroids and labels."
   ]
  },
  {
   "cell_type": "code",
   "execution_count": 25,
   "metadata": {},
   "outputs": [
    {
     "data": {
      "image/png": "[encoded data removed]",
      "text/plain": [
       "<Figure size 640x480 with 1 Axes>"
      ]
     },
     "metadata": {},
     "output_type": "display_data"
    }
   ],
   "source": [
    "from sklearn.datasets import make_blobs\n",
    "from scipy.spatial import distance_matrix\n",
    "\n",
    "# Create an instance of the KMeansClustering class\n",
    "kmeans = KMeansClustering(k=3)\n",
    "\n",
    "n_samples = 100\n",
    "X, y = make_blobs(n_samples=n_samples, centers=3, n_features=2,\n",
    "                  random_state=0)\n",
    "# Fit the model to the data\n",
    "kmeans.fit(X)\n",
    "\n",
    "# Plot the data with centroids and labels\n",
    "plt.scatter(X[:, 0], X[:, 1], c=kmeans.labels)\n",
    "plt.scatter(kmeans.centroids[:, 0], kmeans.centroids[:, 1], marker='*', s=200, c='red')\n",
    "plt.show()"
   ]
  },
  {
   "cell_type": "markdown",
   "metadata": {},
   "source": [
    "Now, let's use the Lemma 2 to prove that the centroid minimizes the sum of squared distances\n",
    "\n",
    "$$\\sum_{i=1}^n \\sum_{j>i} |x_i - x_j|^2 = n \\sum_{i=1}^n |x_i - \\mu|^2$$"
   ]
  },
  {
   "cell_type": "markdown",
   "metadata": {},
   "source": [
    "\n",
    "function `lemma_2` implements the Lemma 2. The lemma states that the sum of squared distances of all data points is equal to the number of data points times the squared distance from the centroid to the mean of the data points. The notebook tests the lemma on a subset of the data (cluster 0).\n"
   ]
  },
  {
   "cell_type": "code",
   "execution_count": 26,
   "metadata": {},
   "outputs": [
    {
     "name": "stdout",
     "output_type": "stream",
     "text": [
      "1812.8736866847603 1812.8736866847605\n"
     ]
    }
   ],
   "source": [
    "def lemma_2(data, centroid):\n",
    "    n = len(data)\n",
    "    sum_squared_distances_to_centroid = np.sum((data - centroid) ** 2)\n",
    "    # Compute pairwise distances\n",
    "    distances = distance_matrix(data, data)\n",
    "    sum_squared_distances_of_all_points = np.sum(distances**2)/2\n",
    "    print(sum_squared_distances_of_all_points, n * sum_squared_distances_to_centroid)\n",
    "\n",
    "# Test the lemma for  cluster 0\n",
    "centroid = kmeans.centroids[0]\n",
    "lemma_2(X[kmeans.labels == 0], centroid)"
   ]
  },
  {
   "cell_type": "markdown",
   "metadata": {},
   "source": [
    "## Optional materials related to k-means\n",
    "\n",
    "* [SE Question: Minimizing the sum of distances between points and a point on the plane?](https://math.stackexchange.com/questions/3037564/minimizing-the-sum-of-distances-between-points-and-a-point-on-the-plane)\n",
    "* [Geometric Median](https://en.wikipedia.org/wiki/Geometric_median)\n",
    "* [Weiszfeld's algorithm (Andrew Vázsonyi)](https://en.wikipedia.org/wiki/Andrew_V%C3%A1zsonyi)\n",
    "  - [M. Amintoosi, (2023) Challenges and Requirements of Persian Language Support in Citation Software (In Persian)](https://www.dropbox.com/scl/fi/meqz3eah19a0kxsswxpje/persian-ref-man-challenges-final-draft.pdf?rlkey=odeveabt22we2axrm26hb7utz&st=ofdoo1y0&dl=0)\n",
    "* [Data clustering: 50 years beyond K-means - ScienceDirect](https://www.sciencedirect.com/science/article/abs/pii/S0167865509002323)\n",
    "* [K-Means Factorizaton](https://www.dropbox.com/s/2fsmpj7i7x3rngy/K-Means%20Factorizaton1512.07548.pdf?dl=1)  \n",
    "* [Balanced K-Means for Clustering | SpringerLink](https://link.springer.com/chapter/10.1007/978-3-662-44415-3_4)\n",
    "* [M. Amintoosi, (2002) Student’s sectioning using fuzzy inference system (In Persian)](https://www.dropbox.com/s/7ohrff9c6im8bye/1382-StudentSectioning.pdf?dl=1)"
   ]
  }
 ],
 "metadata": {
  "kernelspec": {
   "display_name": "pth",
   "language": "python",
   "name": "python3"
  },
  "language_info": {
   "codemirror_mode": {
    "name": "ipython",
    "version": 3
   },
   "file_extension": ".py",
   "mimetype": "text/x-python",
   "name": "python",
   "nbconvert_exporter": "python",
   "pygments_lexer": "ipython3",
   "version": "3.10.14"
  }
 },
 "nbformat": 4,
 "nbformat_minor": 2
}
