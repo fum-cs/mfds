{
 "cells": [
  {
   "cell_type": "markdown",
   "metadata": {},
   "source": [
    "![](img/banner.png)\n",
    "%%HTML\n",
    "<script src=\"require.js\"></script>"
   ]
  },
  {
   "cell_type": "markdown",
   "metadata": {},
   "source": [
    "# SAT-Table\n",
    "\n",
    "**Mahmood Amintoosi, Fall 2024**\n",
    "\n",
    "Computer Science Dept, Ferdowsi University of Mashhad"
   ]
  },
  {
   "cell_type": "code",
   "execution_count": 10,
   "metadata": {},
   "outputs": [],
   "source": [
    "import numpy as np"
   ]
  },
  {
   "cell_type": "markdown",
   "metadata": {},
   "source": [
    "محاسبه فرمول استرلینگ\n",
    "\n",
    "$$\n",
    "S(N,m) = m S(N-1,m) + S(N-1,m-1)\n",
    "\\\\\n",
    "S(N,k) = k S(N-1,k)+ S(N-1,k-1)\n",
    "$$"
   ]
  },
  {
   "cell_type": "code",
   "execution_count": 11,
   "metadata": {},
   "outputs": [],
   "source": [
    "def S(N, k):\n",
    "    if k == 1 or k == N:\n",
    "        return 1\n",
    "    elif k > N:\n",
    "        return 0\n",
    "    else:\n",
    "        return k * S(N - 1, k) + S(N - 1, k - 1)"
   ]
  },
  {
   "cell_type": "code",
   "execution_count": 12,
   "metadata": {},
   "outputs": [
    {
     "name": "stdout",
     "output_type": "stream",
     "text": [
      "3\n",
      "2375101\n",
      "61664747505854495487450129694992261011432242869144177577783166025584730\n"
     ]
    }
   ],
   "source": [
    "S_3_2 = S(3, 2)\n",
    "print(S_3_2)\n",
    "S_15_3 = S(15, 3)\n",
    "print(S_15_3)\n",
    "S_150_3 = S(150, 3)\n",
    "print(S_150_3)"
   ]
  },
  {
   "cell_type": "markdown",
   "metadata": {},
   "source": [
    "جدول درستی با سه متغیر"
   ]
  },
  {
   "cell_type": "code",
   "execution_count": 13,
   "metadata": {},
   "outputs": [
    {
     "name": "stdout",
     "output_type": "stream",
     "text": [
      "0 0 0\n",
      "0 0 1\n",
      "0 1 0\n",
      "0 1 1\n",
      "1 0 0\n",
      "1 0 1\n",
      "1 1 0\n",
      "1 1 1\n"
     ]
    }
   ],
   "source": [
    "for x1 in range(2):\n",
    "    for x2 in range(2):\n",
    "        for x3 in range(2):\n",
    "            print(x1,x2,x3)"
   ]
  },
  {
   "cell_type": "code",
   "execution_count": 14,
   "metadata": {},
   "outputs": [],
   "source": [
    "def SAT_Table(x, i):\n",
    "    if i == x.shape[0]:\n",
    "        print(x)\n",
    "    else:\n",
    "        for x[i] in range(2):\n",
    "            SAT_Table(x, i + 1)"
   ]
  },
  {
   "cell_type": "code",
   "execution_count": 15,
   "metadata": {},
   "outputs": [
    {
     "name": "stdout",
     "output_type": "stream",
     "text": [
      "[0. 0. 0.]\n",
      "[0. 0. 1.]\n",
      "[0. 1. 0.]\n",
      "[0. 1. 1.]\n",
      "[1. 0. 0.]\n",
      "[1. 0. 1.]\n",
      "[1. 1. 0.]\n",
      "[1. 1. 1.]\n"
     ]
    }
   ],
   "source": [
    "N = 3\n",
    "x = np.zeros(N)\n",
    "SAT_Table(x, i=0)"
   ]
  },
  {
   "cell_type": "markdown",
   "metadata": {},
   "source": [
    "تابع رو چگونه اصلاح کنیم که هر سطر جدول درستی رو برگردونه؟"
   ]
  },
  {
   "cell_type": "markdown",
   "metadata": {},
   "source": [
    "The following code is not correct"
   ]
  },
  {
   "cell_type": "code",
   "execution_count": 16,
   "metadata": {},
   "outputs": [],
   "source": [
    "def SAT_Table(x, i):\n",
    "    if i == x.shape[0]:\n",
    "        return x\n",
    "    else:\n",
    "        for x[i] in range(2):\n",
    "            return SAT_Table(x, i + 1)"
   ]
  },
  {
   "cell_type": "code",
   "execution_count": 17,
   "metadata": {},
   "outputs": [
    {
     "name": "stdout",
     "output_type": "stream",
     "text": [
      "[0. 0. 0.]\n"
     ]
    }
   ],
   "source": [
    "N = 3\n",
    "x = np.zeros(N)\n",
    "i = 0\n",
    "\n",
    "print(SAT_Table(x, i))"
   ]
  },
  {
   "cell_type": "markdown",
   "metadata": {},
   "source": [
    "## Using yield :)"
   ]
  },
  {
   "cell_type": "code",
   "execution_count": 18,
   "metadata": {},
   "outputs": [],
   "source": [
    "def SAT_Table(x, i):\n",
    "    if i == x.shape[0]:\n",
    "        yield x\n",
    "    else:\n",
    "        for x[i] in range(2):\n",
    "            yield from SAT_Table(x, i + 1)"
   ]
  },
  {
   "cell_type": "code",
   "execution_count": 19,
   "metadata": {},
   "outputs": [
    {
     "name": "stdout",
     "output_type": "stream",
     "text": [
      "[0. 0. 0.]\n",
      "[0. 0. 1.]\n",
      "[0. 1. 0.]\n",
      "[0. 1. 1.]\n",
      "[1. 0. 0.]\n",
      "[1. 0. 1.]\n",
      "[1. 1. 0.]\n",
      "[1. 1. 1.]\n"
     ]
    }
   ],
   "source": [
    "N = 3\n",
    "x = np.zeros(N)\n",
    "i = 0\n",
    "\n",
    "for s in SAT_Table(x, i):\n",
    "    print(s)"
   ]
  }
 ],
 "metadata": {
  "kernelspec": {
   "display_name": "tf",
   "language": "python",
   "name": "python3"
  },
  "language_info": {
   "codemirror_mode": {
    "name": "ipython",
    "version": 3
   },
   "file_extension": ".py",
   "mimetype": "text/x-python",
   "name": "python",
   "nbconvert_exporter": "python",
   "pygments_lexer": "ipython3",
   "version": "3.10.4"
  },
  "orig_nbformat": 4
 },
 "nbformat": 4,
 "nbformat_minor": 2
}
